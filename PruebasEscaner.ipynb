{
 "cells": [
  {
   "cell_type": "markdown",
   "metadata": {},
   "source": [
    "## Analizador Lexico\n",
    "Un analizador lexico transforma una entrada en tokens"
   ]
  },
  {
   "cell_type": "code",
   "execution_count": null,
   "metadata": {},
   "outputs": [],
   "source": [
    "entrada = \"Es de dia entonces hace sol\""
   ]
  },
  {
   "cell_type": "code",
   "execution_count": null,
   "metadata": {},
   "outputs": [
    {
     "data": {
      "text/plain": [
       "['si',\n",
       " 'si',\n",
       " 'es',\n",
       " 'de',\n",
       " 'dia',\n",
       " 'entonces',\n",
       " 'mañana',\n",
       " 'no',\n",
       " 'es',\n",
       " 'de',\n",
       " 'noche']"
      ]
     },
     "execution_count": 4,
     "metadata": {},
     "output_type": "execute_result"
    }
   ],
   "source": [
    "tokens = entrada.lower().split()\n",
    "tokens"
   ]
  },
  {
   "cell_type": "code",
   "execution_count": null,
   "metadata": {},
   "outputs": [],
   "source": [
    "from enum import Enum\n",
    "\n",
    "class TipoToken(Enum):\n",
    "    O = 1\n",
    "    Y = 2\n",
    "    S = 3\n",
    "    N = 4\n",
    "    E = 5\n",
    "    P = 6"
   ]
  },
  {
   "cell_type": "code",
   "execution_count": null,
   "metadata": {
    "vscode": {
     "languageId": "javascript"
    }
   },
   "outputs": [
    {
     "data": {
      "text/plain": [
       "[{'valor': 'si', 'tipo': <TipoToken.S: 3>},\n",
       " {'valor': 'si', 'tipo': <TipoToken.S: 3>},\n",
       " {'valor': 'es', 'tipo': <TipoToken.P: 6>},\n",
       " {'valor': 'de', 'tipo': <TipoToken.P: 6>},\n",
       " {'valor': 'dia', 'tipo': <TipoToken.P: 6>},\n",
       " {'valor': 'entonces', 'tipo': <TipoToken.E: 5>},\n",
       " {'valor': 'mañana', 'tipo': <TipoToken.P: 6>},\n",
       " {'valor': 'no', 'tipo': <TipoToken.N: 4>},\n",
       " {'valor': 'es', 'tipo': <TipoToken.P: 6>},\n",
       " {'valor': 'de', 'tipo': <TipoToken.P: 6>},\n",
       " {'valor': 'noche', 'tipo': <TipoToken.P: 6>}]"
      ]
     },
     "execution_count": 10,
     "metadata": {},
     "output_type": "execute_result"
    }
   ],
   "source": [
    "lexemas = []\n",
    "for token in tokens:\n",
    "    if token == 'o':\n",
    "        lexemas.append({\"valor\" : token , \"tipo\": TipoToken.O })\n",
    "    elif token == 'y':\n",
    "        lexemas.append({\"valor\" : token , \"tipo\": TipoToken.Y})\n",
    "    elif token == 'si':\n",
    "        lexemas.append({\"valor\" : token , \"tipo\": TipoToken.S})\n",
    "    elif token == 'entonces':\n",
    "        lexemas.append({\"valor\" : token , \"tipo\": TipoToken.E})\n",
    "    elif token == 'no':\n",
    "        lexemas.append({\"valor\" : token , \"tipo\": TipoToken.N})\n",
    "    else :\n",
    "        lexemas.append({\"valor\" :token , \"tipo\": TipoToken.P })\n",
    "        \n",
    "lexemas"
   ]
  },
  {
   "cell_type": "markdown",
   "metadata": {},
   "source": [
    "## Analizador Sintactico"
   ]
  },
  {
   "cell_type": "code",
   "execution_count": 11,
   "metadata": {},
   "outputs": [],
   "source": [
    "class EstadosAnalizador(Enum):\n",
    "    INICIO = 1\n",
    "    PRECEDENTE = 2\n",
    "    ERROR1 = 3\n",
    "    NEGACION = 4\n",
    "    CONSECUENTE = 5\n",
    "    ATOMO = 6\n",
    "    DISYUNCION = 7\n",
    "    CONJUNCION = 8\n",
    "    ERROR2 = 9\n",
    "    FIN = 10"
   ]
  },
  {
   "cell_type": "code",
   "execution_count": null,
   "metadata": {},
   "outputs": [],
   "source": [
    "def analizar_lexemas(lexemas):\n",
    "    EstadoActual = EstadosAnalizador.INICIO\n",
    "    mensaje_error = \"\"\n",
    "\n",
    "    for lexema in lexemas:\n",
    "        if EstadoActual == EstadosAnalizador.INICIO:\n",
    "            if lexema == \"si\":\n",
    "                EstadoActual = EstadosAnalizador.PRECEDENTE\n",
    "            else:\n",
    "                EstadoActual = EstadosAnalizador.ERROR1\n",
    "                mensaje_error = f\"Error en INICIO: se esperaba 'si', se encontró '{lexema}'\"\n",
    "                break\n",
    "        else:\n",
    "            if EstadoActual == EstadosAnalizador.PRECEDENTE:\n",
    "                if lexema == \"no\":\n",
    "                    EstadoActual = EstadosAnalizador.NEGACION\n",
    "                else:\n",
    "                    if lexema == \"es\":\n",
    "                        EstadoActual = EstadosAnalizador.CONSECUENTE\n",
    "                    else:\n",
    "                        EstadoActual = EstadosAnalizador.ERROR2\n",
    "                        mensaje_error = f\"Error en PRECEDENTE: se esperaba 'no' o 'es', se encontró '{lexema}'\"\n",
    "                        break\n",
    "            else:\n",
    "                if EstadoActual == EstadosAnalizador.NEGACION:\n",
    "                    if lexema == \"de\":\n",
    "                        EstadoActual = EstadosAnalizador.ATOMO\n",
    "                    else:\n",
    "                        EstadoActual = EstadosAnalizador.ERROR2\n",
    "                        mensaje_error = f\"Error en NEGACION: se esperaba 'de', se encontró '{lexema}'\"\n",
    "                        break\n",
    "                else:\n",
    "                    if EstadoActual == EstadosAnalizador.CONSECUENTE:\n",
    "                        if lexema == \"de\":\n",
    "                            EstadoActual = EstadosAnalizador.ATOMO\n",
    "                        else:\n",
    "                            EstadoActual = EstadosAnalizador.ERROR2\n",
    "                            mensaje_error = f\"Error en CONSECUENTE: se esperaba 'de', se encontró '{lexema}'\"\n",
    "                            break\n",
    "                    else:\n",
    "                        if EstadoActual == EstadosAnalizador.ATOMO:\n",
    "                            if lexema == \"entonces\":\n",
    "                                EstadoActual = EstadosAnalizador.FIN\n",
    "                            else:\n",
    "                                if lexema == \"y\":\n",
    "                                    EstadoActual = EstadosAnalizador.CONJUNCION\n",
    "                                else:\n",
    "                                    if lexema == \"o\":\n",
    "                                        EstadoActual = EstadosAnalizador.DISYUNCION\n",
    "                                    else:\n",
    "                                        EstadoActual = EstadosAnalizador.ERROR2\n",
    "                                        mensaje_error = f\"Error en ATOMO: se esperaba 'entonces', 'y' o 'o', se encontró '{lexema}'\"\n",
    "                                        break\n",
    "                        else:\n",
    "                            if EstadoActual == EstadosAnalizador.CONJUNCION:\n",
    "                                if lexema == \"de\":\n",
    "                                    EstadoActual = EstadosAnalizador.ATOMO\n",
    "                                else:\n",
    "                                    EstadoActual = EstadosAnalizador.ERROR2\n",
    "                                    mensaje_error = f\"Error en CONJUNCION: se esperaba 'de', se encontró '{lexema}'\"\n",
    "                                    break\n",
    "                            else:\n",
    "                                if EstadoActual == EstadosAnalizador.DISYUNCION:\n",
    "                                    if lexema == \"de\":\n",
    "                                        EstadoActual = EstadosAnalizador.ATOMO\n",
    "                                    else:\n",
    "                                        EstadoActual = EstadosAnalizador.ERROR2\n",
    "                                        mensaje_error = f\"Error en DISYUNCION: se esperaba 'de', se encontró '{lexema}'\"\n",
    "                                        break\n",
    "                                else:\n",
    "                                    if EstadoActual == EstadosAnalizador.ERROR1:\n",
    "                                        mensaje_error = \"Error en ERROR1: análisis detenido\"\n",
    "                                        break\n",
    "                                    else:\n",
    "                                        if EstadoActual == EstadosAnalizador.ERROR2:\n",
    "                                            mensaje_error = \"Error en ERROR2: análisis detenido\"\n",
    "                                            break\n",
    "                                        else:\n",
    "                                            if EstadoActual == EstadosAnalizador.FIN:\n",
    "                                                break\n",
    "\n",
    "    if EstadoActual == EstadosAnalizador.FIN:\n",
    "        return True, \"Análisis completado con éxito\"\n",
    "    else:\n",
    "        return False, mensaje_error"
   ]
  },
  {
   "cell_type": "code",
   "execution_count": 13,
   "metadata": {},
   "outputs": [
    {
     "name": "stdout",
     "output_type": "stream",
     "text": [
      "EstadosAnalizador.ERROR1\n"
     ]
    }
   ],
   "source": [
    "lexemas = [\"si\", \"es\", \"de\", \"entonces\"]\n",
    "resultado, mensaje = analizar_lexemas(lexemas)\n",
    "print(resultado, mensaje)"
   ]
  },
  {
   "cell_type": "markdown",
   "metadata": {},
   "source": [
    "## Arbol Binario"
   ]
  },
  {
   "cell_type": "code",
   "execution_count": null,
   "metadata": {},
   "outputs": [],
   "source": [
    "from prettytable import PrettyTable\n",
    "\n",
    "class Nodo: \n",
    "    def __init__(self, regla):\n",
    "        self.regla = regla\n",
    "        self.izquierda = None\n",
    "        self.derecha = None\n",
    "\n",
    "# Crear los nodos del árbol\n",
    "nodo1 = Nodo(\"Si el semáforo está en rojo entonces detente.\")\n",
    "nodo2 = Nodo(\"Si el semáforo está en verde entonces avanza.\")\n",
    "nodo3 = Nodo(\"El semáforo no está en verde, debes frenar.\")\n",
    "nodo4 = Nodo(\"No hay señalización, sigue las normas generales de tránsito.\")\n",
    "nodo5 = Nodo(\"Es de noche y hay poca visibilidad por lo que debes encender las luces.\")\n",
    "nodo6 = Nodo(\"Hay un peatón y está en el paso de cebra por lo que debes detenerte.\")\n",
    "nodo7 = Nodo(\"Debes hacerte a un lado cuando hay un vehículo de emergencia o te pueden multar.\")\n",
    "nodo8 = Nodo(\"Si hay obras en la vía debes disminuir la velocidad o tendrás un accidente.\")\n",
    "nodo9 = Nodo(\"Si es una zona escolar y es horario escolar entonces disminuye la velocidad.\")\n",
    "nodo10 = Nodo(\"Si está lloviendo y la carretera está resbaladiza entonces maneja con precaución.\")\n",
    "\n",
    "# Asignar las ramas del árbol\n",
    "nodo1.izquierda = nodo3\n",
    "nodo1.derecha = nodo2\n",
    "nodo3.izquierda = nodo4\n",
    "nodo3.derecha = nodo5\n",
    "nodo5.izquierda = nodo6\n",
    "nodo5.derecha = nodo7\n",
    "nodo7.izquierda = nodo8\n",
    "nodo7.derecha = nodo9\n",
    "nodo8.izquierda = nodo10\n",
    "\n",
    "# Función para recorrer el árbol en orden\n",
    "def recorrer_arbol(nodo, si_phrases, no_si_phrases):\n",
    "    if nodo is not None:\n",
    "        recorrer_arbol(nodo.izquierda, si_phrases, no_si_phrases)\n",
    "        if nodo.regla.startswith(\"Si\"):\n",
    "            si_phrases.append(nodo.regla)\n",
    "        else:\n",
    "            no_si_phrases.append(nodo.regla)\n",
    "        recorrer_arbol(nodo.derecha, si_phrases, no_si_phrases)\n",
    "\n",
    "# Recorrer el árbol en orden\n",
    "si_phrases = []\n",
    "no_si_phrases = []\n",
    "recorrer_arbol(nodo1, si_phrases, no_si_phrases)\n",
    "# Imprimir las frases que empiezan con \"Si\"\n",
    "print(\"Aquí están las frases que empiezan con 'Si':\")\n",
    "for frase in si_phrases:\n",
    "    print(frase)\n",
    "\n",
    "# Imprimir las frases que no empiezan con \"Si\"\n",
    "print(\"\\nAquí están las frases que no empiezan con 'Si':\")\n",
    "for frase in no_si_phrases:\n",
    "    print(frase)\n",
    "\n",
    "# Crear la tabla con las frases y su número de puesto\n",
    "tabla = []\n",
    "for i, frase in enumerate(si_phrases + no_si_phrases, start=1):\n",
    "    tabla.append((frase, i))\n",
    "\n",
    "# Usar PrettyTable para imprimir la tabla\n",
    "tabla_pretty = PrettyTable()\n",
    "tabla_pretty.field_names = [\"Frase\", \"Puesto\"]\n",
    "for frase, puesto in tabla:\n",
    "    tabla_pretty.add_row([frase, puesto])\n",
    "\n",
    "print(\"\\nTabla de frases:\")\n",
    "print(tabla_pretty)"
   ]
  }
 ],
 "metadata": {
  "kernelspec": {
   "display_name": ".venv",
   "language": "python",
   "name": "python3"
  },
  "language_info": {
   "codemirror_mode": {
    "name": "ipython",
    "version": 3
   },
   "file_extension": ".py",
   "mimetype": "text/x-python",
   "name": "python",
   "nbconvert_exporter": "python",
   "pygments_lexer": "ipython3",
   "version": "3.11.8"
  }
 },
 "nbformat": 4,
 "nbformat_minor": 2
}
